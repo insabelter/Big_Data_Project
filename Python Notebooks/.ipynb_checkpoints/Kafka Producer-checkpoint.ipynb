{
 "cells": [
  {
   "cell_type": "markdown",
   "metadata": {},
   "source": [
    "# Kafka Producer\n",
    " \n",
    " Dieses Skript dient dazu, die Daten aus den CSV Dateien an den Consumer zu übergeben. Dazu haben wir folgende Funktionen definiert, die am Ende mit den passenden Parametern ausgeführt werden, um die zuvor ausgewählten Daten zu übertragen."
   ]
  },
  {
   "cell_type": "code",
   "execution_count": 31,
   "metadata": {},
   "outputs": [
    {
     "name": "stderr",
     "output_type": "stream",
     "text": [
      "INFO:kafka.conn:<BrokerConnection node_id=bootstrap-0 host=127.0.0.1:9092 <connecting> [IPv4 ('127.0.0.1', 9092)]>: connecting to 127.0.0.1:9092 [('127.0.0.1', 9092) IPv4]\n",
      "INFO:kafka.conn:Probing node bootstrap-0 broker version\n",
      "INFO:kafka.conn:<BrokerConnection node_id=bootstrap-0 host=127.0.0.1:9092 <connecting> [IPv4 ('127.0.0.1', 9092)]>: Connection complete.\n",
      "INFO:kafka.conn:Broker version identified as 2.5.0\n",
      "INFO:kafka.conn:Set configuration api_version=(2, 5, 0) to skip auto check_version requests on startup\n",
      "INFO:kafka.conn:<BrokerConnection node_id=0 host=Gottmaschine:9092 <connected> [IPv6 ('fe80::937:c2e:33be:186a', 9092, 0, 5)]>: Closing connection. \n",
      "INFO:kafka.conn:<BrokerConnection node_id=0 host=Gottmaschine:9092 <connecting> [IPv6 ('fe80::937:c2e:33be:186a', 9092, 0, 5)]>: connecting to Gottmaschine:9092 [('fe80::937:c2e:33be:186a', 9092, 0, 5) IPv6]\n",
      "INFO:kafka.conn:<BrokerConnection node_id=0 host=Gottmaschine:9092 <connecting> [IPv6 ('fe80::937:c2e:33be:186a', 9092, 0, 5)]>: Connection complete.\n",
      "INFO:kafka.conn:<BrokerConnection node_id=bootstrap-0 host=127.0.0.1:9092 <connected> [IPv4 ('127.0.0.1', 9092)]>: Closing connection. \n"
     ]
    }
   ],
   "source": [
    "# Import some necessary modules\n",
    "from kafka import KafkaProducer\n",
    "import csv\n",
    "\n",
    "def sendData(csvFilepath,topic):\n",
    "    producer = KafkaProducer(bootstrap_servers='127.0.0.1:9092')\n",
    "    with open(csvFilepath, 'r',encoding='utf-8') as file:\n",
    "        for line in file:\n",
    "            producer.send(topic, str.encode(line))\n",
    "            producer.flush()"
   ]
  },
  {
   "cell_type": "markdown",
   "metadata": {},
   "source": [
    "### Nun rufen wir die Funktion sendData für das topic pedestrians und die sechs ausgewählten Städte auf."
   ]
  },
  {
   "cell_type": "code",
   "execution_count": 41,
   "metadata": {},
   "outputs": [
    {
     "name": "stderr",
     "output_type": "stream",
     "text": [
      "INFO:kafka.conn:<BrokerConnection node_id=bootstrap-0 host=127.0.0.1:9092 <connecting> [IPv4 ('127.0.0.1', 9092)]>: connecting to 127.0.0.1:9092 [('127.0.0.1', 9092) IPv4]\n",
      "INFO:kafka.conn:Probing node bootstrap-0 broker version\n",
      "INFO:kafka.conn:<BrokerConnection node_id=bootstrap-0 host=127.0.0.1:9092 <connecting> [IPv4 ('127.0.0.1', 9092)]>: Connection complete.\n",
      "INFO:kafka.conn:Broker version identified as 2.5.0\n",
      "INFO:kafka.conn:Set configuration api_version=(2, 5, 0) to skip auto check_version requests on startup\n",
      "INFO:kafka.conn:<BrokerConnection node_id=0 host=Gottmaschine:9092 <connecting> [IPv6 ('fe80::937:c2e:33be:186a', 9092, 0, 5)]>: connecting to Gottmaschine:9092 [('fe80::937:c2e:33be:186a', 9092, 0, 5) IPv6]\n",
      "INFO:kafka.conn:<BrokerConnection node_id=0 host=Gottmaschine:9092 <connecting> [IPv6 ('fe80::937:c2e:33be:186a', 9092, 0, 5)]>: Connection complete.\n",
      "INFO:kafka.conn:<BrokerConnection node_id=bootstrap-0 host=127.0.0.1:9092 <connected> [IPv4 ('127.0.0.1', 9092)]>: Closing connection. \n",
      "INFO:kafka.conn:<BrokerConnection node_id=0 host=Gottmaschine:9092 <connected> [IPv6 ('fe80::937:c2e:33be:186a', 9092, 0, 5)]>: Closing connection. \n"
     ]
    }
   ],
   "source": [
    "mytopic = 'pedestrians'\n",
    "filepath = 'C:/Users/neeli/frankfurt_incidence.csv'\n",
    "csvArray = ['ped_muenchen.csv', 'ped_dresden.csv', 'ped_mannheim.csv', 'ped_frankfurt.csv', 'ped_koeln.csv', 'ped_hamburg.csv']\n",
    "\n",
    "for x in csvArray:\n",
    "    path = \"../Daten/Pedestrians/\" + csvArray[x]\n",
    "    sendData(path,mytopic)"
   ]
  },
  {
   "cell_type": "markdown",
   "metadata": {},
   "source": [
    "### Nun rufen wir die Funktion sendData für das topic incidences und die sechs ausgewählten Städte auf."
   ]
  },
  {
   "cell_type": "code",
   "execution_count": 41,
   "metadata": {},
   "outputs": [
    {
     "name": "stderr",
     "output_type": "stream",
     "text": [
      "INFO:kafka.conn:<BrokerConnection node_id=bootstrap-0 host=127.0.0.1:9092 <connecting> [IPv4 ('127.0.0.1', 9092)]>: connecting to 127.0.0.1:9092 [('127.0.0.1', 9092) IPv4]\n",
      "INFO:kafka.conn:Probing node bootstrap-0 broker version\n",
      "INFO:kafka.conn:<BrokerConnection node_id=bootstrap-0 host=127.0.0.1:9092 <connecting> [IPv4 ('127.0.0.1', 9092)]>: Connection complete.\n",
      "INFO:kafka.conn:Broker version identified as 2.5.0\n",
      "INFO:kafka.conn:Set configuration api_version=(2, 5, 0) to skip auto check_version requests on startup\n",
      "INFO:kafka.conn:<BrokerConnection node_id=0 host=Gottmaschine:9092 <connecting> [IPv6 ('fe80::937:c2e:33be:186a', 9092, 0, 5)]>: connecting to Gottmaschine:9092 [('fe80::937:c2e:33be:186a', 9092, 0, 5) IPv6]\n",
      "INFO:kafka.conn:<BrokerConnection node_id=0 host=Gottmaschine:9092 <connecting> [IPv6 ('fe80::937:c2e:33be:186a', 9092, 0, 5)]>: Connection complete.\n",
      "INFO:kafka.conn:<BrokerConnection node_id=bootstrap-0 host=127.0.0.1:9092 <connected> [IPv4 ('127.0.0.1', 9092)]>: Closing connection. \n",
      "INFO:kafka.conn:<BrokerConnection node_id=0 host=Gottmaschine:9092 <connected> [IPv6 ('fe80::937:c2e:33be:186a', 9092, 0, 5)]>: Closing connection. \n"
     ]
    }
   ],
   "source": [
    "mytopic = 'pedestrians'\n",
    "filepath = 'C:/Users/neeli/frankfurt_incidence.csv'\n",
    "csvArray = ['inc_muenchen.csv', 'inc_dresden.csv', 'inc_mannheim.csv', 'inc_frankfurt.csv', 'inc_koeln.csv', 'inc_hamburg.csv']\n",
    "\n",
    "for x in csvArray:\n",
    "    path = \"../Daten/RKI/\" + csvArray[x]\n",
    "    sendData(path,mytopic)"
   ]
  }
 ],
 "metadata": {
  "kernelspec": {
   "display_name": "Python 3",
   "language": "python",
   "name": "python3"
  },
  "language_info": {
   "codemirror_mode": {
    "name": "ipython",
    "version": 3
   },
   "file_extension": ".py",
   "mimetype": "text/x-python",
   "name": "python",
   "nbconvert_exporter": "python",
   "pygments_lexer": "ipython3",
   "version": "3.7.4"
  }
 },
 "nbformat": 4,
 "nbformat_minor": 5
}
