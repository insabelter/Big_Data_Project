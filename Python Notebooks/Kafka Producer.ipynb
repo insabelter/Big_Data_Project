{
 "cells": [
  {
   "cell_type": "markdown",
   "id": "2f4c26bb",
   "metadata": {},
   "source": [
    "# Kafka Producer\n",
    " \n",
    " Dieses Skript dient dazu, die Daten aus den CSV Dateien an den Consumer zu übergeben. Dazu haben wir folgende Funktionen definiert, die am Ende mit den passenden Parametern ausgeführt werden, um die zuvor ausgewählten Daten zu übertragen."
   ]
  },
  {
   "cell_type": "code",
   "execution_count": 2,
   "id": "5ed4c28c",
   "metadata": {},
   "outputs": [],
   "source": [
    "# Import some necessary modules\n",
    "from kafka import KafkaProducer\n",
    "import csv\n",
    "\n",
    "def sendData(csvFilepath,topic):\n",
    "    producer = KafkaProducer(bootstrap_servers='127.0.0.1:9092')\n",
    "    with open(csvFilepath, 'r',encoding='utf-8') as file:\n",
    "        for line in file:\n",
    "            producer.send(topic, str.encode(line))\n",
    "            producer.flush()"
   ]
  },
  {
   "cell_type": "markdown",
   "id": "153de18b",
   "metadata": {},
   "source": [
    "### Nun rufen wir die Funktion sendData für das topic pedestrians und die sechs ausgewählten Städte auf."
   ]
  },
  {
   "cell_type": "code",
   "execution_count": 6,
   "id": "e539d9d7",
   "metadata": {},
   "outputs": [],
   "source": [
    "mytopic = 'pedestrians'\n",
    "csvArray = ['ped_muenchen.csv', 'ped_dresden.csv', 'ped_mannheim.csv', 'ped_frankfurt.csv', 'ped_koeln.csv', 'ped_hamburg.csv']\n",
    "\n",
    "for x in csvArray:\n",
    "    path = \"../Daten/Pedestrians/\" + x\n",
    "    sendData(path,mytopic)"
   ]
  },
  {
   "cell_type": "markdown",
   "id": "0d1469a1",
   "metadata": {},
   "source": [
    "### Nun rufen wir die Funktion sendData für das topic incidences und die sechs ausgewählten Städte auf."
   ]
  },
  {
   "cell_type": "code",
   "execution_count": 9,
   "id": "5a831b1d",
   "metadata": {},
   "outputs": [],
   "source": [
    "mytopic = 'incidences'\n",
    "csvArray = ['inc_muenchen.csv', 'inc_dresden.csv', 'inc_mannheim.csv', 'inc_frankfurt.csv', 'inc_koeln.csv', 'inc_hamburg.csv']\n",
    "\n",
    "for x in csvArray:\n",
    "    path = \"../Daten/Incidences/\" + x\n",
    "    sendData(path,mytopic)"
   ]
  }
 ],
 "metadata": {
  "kernelspec": {
   "display_name": "Python 3 (ipykernel)",
   "language": "python",
   "name": "python3"
  },
  "language_info": {
   "codemirror_mode": {
    "name": "ipython",
    "version": 3
   },
   "file_extension": ".py",
   "mimetype": "text/x-python",
   "name": "python",
   "nbconvert_exporter": "python",
   "pygments_lexer": "ipython3",
   "version": "3.9.1"
  }
 },
 "nbformat": 4,
 "nbformat_minor": 5
}
