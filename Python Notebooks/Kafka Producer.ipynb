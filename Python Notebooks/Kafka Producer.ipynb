{
 "cells": [
  {
   "cell_type": "code",
   "execution_count": 31,
   "id": "a08fb745",
   "metadata": {},
   "outputs": [
    {
     "name": "stderr",
     "output_type": "stream",
     "text": [
      "INFO:kafka.conn:<BrokerConnection node_id=bootstrap-0 host=127.0.0.1:9092 <connecting> [IPv4 ('127.0.0.1', 9092)]>: connecting to 127.0.0.1:9092 [('127.0.0.1', 9092) IPv4]\n",
      "INFO:kafka.conn:Probing node bootstrap-0 broker version\n",
      "INFO:kafka.conn:<BrokerConnection node_id=bootstrap-0 host=127.0.0.1:9092 <connecting> [IPv4 ('127.0.0.1', 9092)]>: Connection complete.\n",
      "INFO:kafka.conn:Broker version identified as 2.5.0\n",
      "INFO:kafka.conn:Set configuration api_version=(2, 5, 0) to skip auto check_version requests on startup\n",
      "INFO:kafka.conn:<BrokerConnection node_id=0 host=Gottmaschine:9092 <connected> [IPv6 ('fe80::937:c2e:33be:186a', 9092, 0, 5)]>: Closing connection. \n",
      "INFO:kafka.conn:<BrokerConnection node_id=0 host=Gottmaschine:9092 <connecting> [IPv6 ('fe80::937:c2e:33be:186a', 9092, 0, 5)]>: connecting to Gottmaschine:9092 [('fe80::937:c2e:33be:186a', 9092, 0, 5) IPv6]\n",
      "INFO:kafka.conn:<BrokerConnection node_id=0 host=Gottmaschine:9092 <connecting> [IPv6 ('fe80::937:c2e:33be:186a', 9092, 0, 5)]>: Connection complete.\n",
      "INFO:kafka.conn:<BrokerConnection node_id=bootstrap-0 host=127.0.0.1:9092 <connected> [IPv4 ('127.0.0.1', 9092)]>: Closing connection. \n"
     ]
    }
   ],
   "source": [
    "from kafka import KafkaProducer\n",
    "import csv\n",
    "#logging.basicConfig(level=logging.INFO)\n",
    "\n",
    "\n",
    "producer = KafkaProducer(bootstrap_servers='127.0.0.1:9092')\n",
    "\n",
    "with open('C:/Users/neeli/munich.csv', 'r',encoding='utf-8') as file:\n",
    "    for line in file:\n",
    "        producer.send('testCSV', str.encode(line))\n",
    "        producer.flush()"
   ]
  },
  {
   "cell_type": "code",
   "execution_count": 33,
   "id": "b9bcdf9a",
   "metadata": {},
   "outputs": [],
   "source": [
    "def sendData(csvFilepath,topic):\n",
    "    producer = KafkaProducer(bootstrap_servers='127.0.0.1:9092')\n",
    "    with open(csvFilepath, 'r',encoding='utf-8') as file:\n",
    "        for line in file:\n",
    "            producer.send(topic, str.encode(line))\n",
    "            producer.flush()"
   ]
  },
  {
   "cell_type": "code",
   "execution_count": 41,
   "id": "4d76c539",
   "metadata": {},
   "outputs": [
    {
     "name": "stderr",
     "output_type": "stream",
     "text": [
      "INFO:kafka.conn:<BrokerConnection node_id=bootstrap-0 host=127.0.0.1:9092 <connecting> [IPv4 ('127.0.0.1', 9092)]>: connecting to 127.0.0.1:9092 [('127.0.0.1', 9092) IPv4]\n",
      "INFO:kafka.conn:Probing node bootstrap-0 broker version\n",
      "INFO:kafka.conn:<BrokerConnection node_id=bootstrap-0 host=127.0.0.1:9092 <connecting> [IPv4 ('127.0.0.1', 9092)]>: Connection complete.\n",
      "INFO:kafka.conn:Broker version identified as 2.5.0\n",
      "INFO:kafka.conn:Set configuration api_version=(2, 5, 0) to skip auto check_version requests on startup\n",
      "INFO:kafka.conn:<BrokerConnection node_id=0 host=Gottmaschine:9092 <connecting> [IPv6 ('fe80::937:c2e:33be:186a', 9092, 0, 5)]>: connecting to Gottmaschine:9092 [('fe80::937:c2e:33be:186a', 9092, 0, 5) IPv6]\n",
      "INFO:kafka.conn:<BrokerConnection node_id=0 host=Gottmaschine:9092 <connecting> [IPv6 ('fe80::937:c2e:33be:186a', 9092, 0, 5)]>: Connection complete.\n",
      "INFO:kafka.conn:<BrokerConnection node_id=bootstrap-0 host=127.0.0.1:9092 <connected> [IPv4 ('127.0.0.1', 9092)]>: Closing connection. \n",
      "INFO:kafka.conn:<BrokerConnection node_id=0 host=Gottmaschine:9092 <connected> [IPv6 ('fe80::937:c2e:33be:186a', 9092, 0, 5)]>: Closing connection. \n"
     ]
    }
   ],
   "source": [
    "filepath = 'C:/Users/neeli/frankfurt_incidence.csv'\n",
    "mytopic = 'incidents'\n",
    "sendData(filepath,mytopic)"
   ]
  }
 ],
 "metadata": {
  "kernelspec": {
   "display_name": "Python 3 (ipykernel)",
   "language": "python",
   "name": "python3"
  },
  "language_info": {
   "codemirror_mode": {
    "name": "ipython",
    "version": 3
   },
   "file_extension": ".py",
   "mimetype": "text/x-python",
   "name": "python",
   "nbconvert_exporter": "python",
   "pygments_lexer": "ipython3",
   "version": "3.9.1"
  }
 },
 "nbformat": 4,
 "nbformat_minor": 5
}
