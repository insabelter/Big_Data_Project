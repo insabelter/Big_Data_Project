{
 "cells": [
  {
   "cell_type": "markdown",
   "metadata": {},
   "source": [
    "# First Look: Pedestrian Data\n",
    "\n",
    "Data from [Hystreet](https://hystreet.com/)"
   ]
  },
  {
   "cell_type": "code",
   "execution_count": 47,
   "metadata": {},
   "outputs": [],
   "source": [
    "import pandas as pd\n",
    "import pickle"
   ]
  },
  {
   "cell_type": "markdown",
   "metadata": {},
   "source": [
    "## Mannheim (Planken Ost) - 2020"
   ]
  },
  {
   "cell_type": "code",
   "execution_count": 48,
   "metadata": {
    "scrolled": false
   },
   "outputs": [
    {
     "data": {
      "text/html": [
       "<div>\n",
       "<style scoped>\n",
       "    .dataframe tbody tr th:only-of-type {\n",
       "        vertical-align: middle;\n",
       "    }\n",
       "\n",
       "    .dataframe tbody tr th {\n",
       "        vertical-align: top;\n",
       "    }\n",
       "\n",
       "    .dataframe thead th {\n",
       "        text-align: right;\n",
       "    }\n",
       "</style>\n",
       "<table border=\"1\" class=\"dataframe\">\n",
       "  <thead>\n",
       "    <tr style=\"text-align: right;\">\n",
       "      <th></th>\n",
       "      <th>location</th>\n",
       "      <th>time of measurement</th>\n",
       "      <th>weekday</th>\n",
       "      <th>pedestrians count</th>\n",
       "      <th>temperature in ºc</th>\n",
       "      <th>weather condition</th>\n",
       "      <th>incidents</th>\n",
       "    </tr>\n",
       "  </thead>\n",
       "  <tbody>\n",
       "    <tr>\n",
       "      <th>0</th>\n",
       "      <td>Planken (Ost), Mannheim</td>\n",
       "      <td>2020-01-01 00:00:00 +0100</td>\n",
       "      <td>Wednesday</td>\n",
       "      <td>8114</td>\n",
       "      <td>3.0</td>\n",
       "      <td>clear-day</td>\n",
       "      <td>NaN</td>\n",
       "    </tr>\n",
       "    <tr>\n",
       "      <th>1</th>\n",
       "      <td>Planken (Ost), Mannheim</td>\n",
       "      <td>2020-01-02 00:00:00 +0100</td>\n",
       "      <td>Thursday</td>\n",
       "      <td>25399</td>\n",
       "      <td>3.0</td>\n",
       "      <td>partly-cloudy-day</td>\n",
       "      <td>NaN</td>\n",
       "    </tr>\n",
       "    <tr>\n",
       "      <th>2</th>\n",
       "      <td>Planken (Ost), Mannheim</td>\n",
       "      <td>2020-01-03 00:00:00 +0100</td>\n",
       "      <td>Friday</td>\n",
       "      <td>26111</td>\n",
       "      <td>9.0</td>\n",
       "      <td>rain</td>\n",
       "      <td>NaN</td>\n",
       "    </tr>\n",
       "    <tr>\n",
       "      <th>3</th>\n",
       "      <td>Planken (Ost), Mannheim</td>\n",
       "      <td>2020-01-04 00:00:00 +0100</td>\n",
       "      <td>Saturday</td>\n",
       "      <td>32381</td>\n",
       "      <td>8.0</td>\n",
       "      <td>rain</td>\n",
       "      <td>NaN</td>\n",
       "    </tr>\n",
       "    <tr>\n",
       "      <th>4</th>\n",
       "      <td>Planken (Ost), Mannheim</td>\n",
       "      <td>2020-01-05 00:00:00 +0100</td>\n",
       "      <td>Sunday</td>\n",
       "      <td>6777</td>\n",
       "      <td>7.0</td>\n",
       "      <td>partly-cloudy-day</td>\n",
       "      <td>NaN</td>\n",
       "    </tr>\n",
       "    <tr>\n",
       "      <th>...</th>\n",
       "      <td>...</td>\n",
       "      <td>...</td>\n",
       "      <td>...</td>\n",
       "      <td>...</td>\n",
       "      <td>...</td>\n",
       "      <td>...</td>\n",
       "      <td>...</td>\n",
       "    </tr>\n",
       "    <tr>\n",
       "      <th>364</th>\n",
       "      <td>Planken (Ost), Mannheim</td>\n",
       "      <td>2020-12-27 00:00:00 +0100</td>\n",
       "      <td>Sunday</td>\n",
       "      <td>1618</td>\n",
       "      <td>6.0</td>\n",
       "      <td>rain</td>\n",
       "      <td>NaN</td>\n",
       "    </tr>\n",
       "    <tr>\n",
       "      <th>365</th>\n",
       "      <td>Planken (Ost), Mannheim</td>\n",
       "      <td>2020-12-28 00:00:00 +0100</td>\n",
       "      <td>Monday</td>\n",
       "      <td>4138</td>\n",
       "      <td>7.0</td>\n",
       "      <td>rain</td>\n",
       "      <td>NaN</td>\n",
       "    </tr>\n",
       "    <tr>\n",
       "      <th>366</th>\n",
       "      <td>Planken (Ost), Mannheim</td>\n",
       "      <td>2020-12-29 00:00:00 +0100</td>\n",
       "      <td>Tuesday</td>\n",
       "      <td>4875</td>\n",
       "      <td>5.0</td>\n",
       "      <td>rain</td>\n",
       "      <td>NaN</td>\n",
       "    </tr>\n",
       "    <tr>\n",
       "      <th>367</th>\n",
       "      <td>Planken (Ost), Mannheim</td>\n",
       "      <td>2020-12-30 00:00:00 +0100</td>\n",
       "      <td>Wednesday</td>\n",
       "      <td>4466</td>\n",
       "      <td>5.0</td>\n",
       "      <td>rain</td>\n",
       "      <td>NaN</td>\n",
       "    </tr>\n",
       "    <tr>\n",
       "      <th>368</th>\n",
       "      <td>Planken (Ost), Mannheim</td>\n",
       "      <td>2020-12-31 00:00:00 +0100</td>\n",
       "      <td>Thursday</td>\n",
       "      <td>2071</td>\n",
       "      <td>3.0</td>\n",
       "      <td>rain</td>\n",
       "      <td>NaN</td>\n",
       "    </tr>\n",
       "  </tbody>\n",
       "</table>\n",
       "<p>369 rows × 7 columns</p>\n",
       "</div>"
      ],
      "text/plain": [
       "                    location        time of measurement    weekday  \\\n",
       "0    Planken (Ost), Mannheim  2020-01-01 00:00:00 +0100  Wednesday   \n",
       "1    Planken (Ost), Mannheim  2020-01-02 00:00:00 +0100   Thursday   \n",
       "2    Planken (Ost), Mannheim  2020-01-03 00:00:00 +0100     Friday   \n",
       "3    Planken (Ost), Mannheim  2020-01-04 00:00:00 +0100   Saturday   \n",
       "4    Planken (Ost), Mannheim  2020-01-05 00:00:00 +0100     Sunday   \n",
       "..                       ...                        ...        ...   \n",
       "364  Planken (Ost), Mannheim  2020-12-27 00:00:00 +0100     Sunday   \n",
       "365  Planken (Ost), Mannheim  2020-12-28 00:00:00 +0100     Monday   \n",
       "366  Planken (Ost), Mannheim  2020-12-29 00:00:00 +0100    Tuesday   \n",
       "367  Planken (Ost), Mannheim  2020-12-30 00:00:00 +0100  Wednesday   \n",
       "368  Planken (Ost), Mannheim  2020-12-31 00:00:00 +0100   Thursday   \n",
       "\n",
       "     pedestrians count  temperature in ºc  weather condition  incidents  \n",
       "0                 8114                3.0          clear-day        NaN  \n",
       "1                25399                3.0  partly-cloudy-day        NaN  \n",
       "2                26111                9.0               rain        NaN  \n",
       "3                32381                8.0               rain        NaN  \n",
       "4                 6777                7.0  partly-cloudy-day        NaN  \n",
       "..                 ...                ...                ...        ...  \n",
       "364               1618                6.0               rain        NaN  \n",
       "365               4138                7.0               rain        NaN  \n",
       "366               4875                5.0               rain        NaN  \n",
       "367               4466                5.0               rain        NaN  \n",
       "368               2071                3.0               rain        NaN  \n",
       "\n",
       "[369 rows x 7 columns]"
      ]
     },
     "execution_count": 48,
     "metadata": {},
     "output_type": "execute_result"
    }
   ],
   "source": [
    "df = pd.read_csv(\"../Daten/Pedestrians/mannheim-planken (ost)-2020-daily.csv\",sep=\";\")\n",
    "df"
   ]
  },
  {
   "cell_type": "markdown",
   "metadata": {},
   "source": [
    "### Convert time to python datetime"
   ]
  },
  {
   "cell_type": "code",
   "execution_count": 49,
   "metadata": {},
   "outputs": [
    {
     "data": {
      "text/html": [
       "<div>\n",
       "<style scoped>\n",
       "    .dataframe tbody tr th:only-of-type {\n",
       "        vertical-align: middle;\n",
       "    }\n",
       "\n",
       "    .dataframe tbody tr th {\n",
       "        vertical-align: top;\n",
       "    }\n",
       "\n",
       "    .dataframe thead th {\n",
       "        text-align: right;\n",
       "    }\n",
       "</style>\n",
       "<table border=\"1\" class=\"dataframe\">\n",
       "  <thead>\n",
       "    <tr style=\"text-align: right;\">\n",
       "      <th></th>\n",
       "      <th>location</th>\n",
       "      <th>time of measurement</th>\n",
       "      <th>weekday</th>\n",
       "      <th>pedestrians count</th>\n",
       "      <th>temperature in ºc</th>\n",
       "      <th>weather condition</th>\n",
       "      <th>incidents</th>\n",
       "    </tr>\n",
       "  </thead>\n",
       "  <tbody>\n",
       "    <tr>\n",
       "      <th>0</th>\n",
       "      <td>Planken (Ost), Mannheim</td>\n",
       "      <td>2020-01-01 00:00:00</td>\n",
       "      <td>Wednesday</td>\n",
       "      <td>8114</td>\n",
       "      <td>3.0</td>\n",
       "      <td>clear-day</td>\n",
       "      <td>NaN</td>\n",
       "    </tr>\n",
       "    <tr>\n",
       "      <th>1</th>\n",
       "      <td>Planken (Ost), Mannheim</td>\n",
       "      <td>2020-01-02 00:00:00</td>\n",
       "      <td>Thursday</td>\n",
       "      <td>25399</td>\n",
       "      <td>3.0</td>\n",
       "      <td>partly-cloudy-day</td>\n",
       "      <td>NaN</td>\n",
       "    </tr>\n",
       "    <tr>\n",
       "      <th>2</th>\n",
       "      <td>Planken (Ost), Mannheim</td>\n",
       "      <td>2020-01-03 00:00:00</td>\n",
       "      <td>Friday</td>\n",
       "      <td>26111</td>\n",
       "      <td>9.0</td>\n",
       "      <td>rain</td>\n",
       "      <td>NaN</td>\n",
       "    </tr>\n",
       "    <tr>\n",
       "      <th>3</th>\n",
       "      <td>Planken (Ost), Mannheim</td>\n",
       "      <td>2020-01-04 00:00:00</td>\n",
       "      <td>Saturday</td>\n",
       "      <td>32381</td>\n",
       "      <td>8.0</td>\n",
       "      <td>rain</td>\n",
       "      <td>NaN</td>\n",
       "    </tr>\n",
       "    <tr>\n",
       "      <th>4</th>\n",
       "      <td>Planken (Ost), Mannheim</td>\n",
       "      <td>2020-01-05 00:00:00</td>\n",
       "      <td>Sunday</td>\n",
       "      <td>6777</td>\n",
       "      <td>7.0</td>\n",
       "      <td>partly-cloudy-day</td>\n",
       "      <td>NaN</td>\n",
       "    </tr>\n",
       "  </tbody>\n",
       "</table>\n",
       "</div>"
      ],
      "text/plain": [
       "                  location  time of measurement    weekday  pedestrians count  \\\n",
       "0  Planken (Ost), Mannheim  2020-01-01 00:00:00  Wednesday               8114   \n",
       "1  Planken (Ost), Mannheim  2020-01-02 00:00:00   Thursday              25399   \n",
       "2  Planken (Ost), Mannheim  2020-01-03 00:00:00     Friday              26111   \n",
       "3  Planken (Ost), Mannheim  2020-01-04 00:00:00   Saturday              32381   \n",
       "4  Planken (Ost), Mannheim  2020-01-05 00:00:00     Sunday               6777   \n",
       "\n",
       "   temperature in ºc  weather condition  incidents  \n",
       "0                3.0          clear-day        NaN  \n",
       "1                3.0  partly-cloudy-day        NaN  \n",
       "2                9.0               rain        NaN  \n",
       "3                8.0               rain        NaN  \n",
       "4                7.0  partly-cloudy-day        NaN  "
      ]
     },
     "execution_count": 49,
     "metadata": {},
     "output_type": "execute_result"
    }
   ],
   "source": [
    "import datetime as dt\n",
    "\n",
    "for i,row in df.iterrows():\n",
    "    time = row[\"time of measurement\"]\n",
    "    time = time.split()[0]\n",
    "    dtime = dt.datetime.fromisoformat(time)\n",
    "    df.at[i,\"time of measurement\"] = dtime\n",
    "\n",
    "df.head()"
   ]
  },
  {
   "cell_type": "markdown",
   "metadata": {},
   "source": [
    "### How many incidents are there?"
   ]
  },
  {
   "cell_type": "code",
   "execution_count": 50,
   "metadata": {},
   "outputs": [
    {
     "data": {
      "text/plain": [
       "0"
      ]
     },
     "execution_count": 50,
     "metadata": {},
     "output_type": "execute_result"
    }
   ],
   "source": [
    "df['incidents'].notnull().values.sum()"
   ]
  },
  {
   "cell_type": "markdown",
   "metadata": {},
   "source": [
    "### Is a day missing?"
   ]
  },
  {
   "cell_type": "code",
   "execution_count": 66,
   "metadata": {},
   "outputs": [
    {
     "name": "stdout",
     "output_type": "stream",
     "text": [
      "No day ist missing!\n"
     ]
    }
   ],
   "source": [
    "times = set(df['time of measurement'].tolist())\n",
    "\n",
    "flag = True\n",
    "c_day = dt.datetime(2020,1,1)\n",
    "\n",
    "# 2020 ist Schaltjahr\n",
    "for i in range(366):\n",
    "    if c_day not in times:\n",
    "        print(f\"Day {c_day} is missing!\")\n",
    "        flag = False\n",
    "    c_day += datetime.timedelta(days=1)\n",
    "\n",
    "if flag:\n",
    "    print(\"No day ist missing!\")"
   ]
  },
  {
   "cell_type": "markdown",
   "metadata": {},
   "source": [
    "### Plot Pedestrians per Day"
   ]
  },
  {
   "cell_type": "code",
   "execution_count": 67,
   "metadata": {},
   "outputs": [
    {
     "data": {
      "image/png": "[encoded data removed]",
      "text/plain": [
       "<Figure size 432x288 with 1 Axes>"
      ]
     },
     "metadata": {
      "needs_background": "light"
     },
     "output_type": "display_data"
    }
   ],
   "source": [
    "import matplotlib.pyplot as plt\n",
    "\n",
    "df.plot(x ='time of measurement', y='pedestrians count')\n",
    "plt.show()"
   ]
  }
 ],
 "metadata": {
  "kernelspec": {
   "display_name": "Python 3",
   "language": "python",
   "name": "python3"
  },
  "language_info": {
   "codemirror_mode": {
    "name": "ipython",
    "version": 3
   },
   "file_extension": ".py",
   "mimetype": "text/x-python",
   "name": "python",
   "nbconvert_exporter": "python",
   "pygments_lexer": "ipython3",
   "version": "3.7.4"
  }
 },
 "nbformat": 4,
 "nbformat_minor": 4
}
